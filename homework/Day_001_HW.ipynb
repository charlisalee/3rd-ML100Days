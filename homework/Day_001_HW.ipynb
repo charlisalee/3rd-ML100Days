{
 "cells": [
  {
   "cell_type": "markdown",
   "metadata": {},
   "source": [
    "## 練習時間\n",
    "#### 請寫一個函式用來計算 Mean Square Error\n",
    "$ MSE = \\frac{1}{n}\\sum_{i=1}^{n}{(Y_i - \\hat{Y}_i)^2} $\n",
    "\n",
    "### Hint: [如何取平方](https://googoodesign.gitbooks.io/-ezpython/unit-1.html)"
   ]
  },
  {
   "cell_type": "markdown",
   "metadata": {},
   "source": [
    "# [作業目標]\n",
    "- 仿造範例的MAE函數, 自己寫一個MSE函數(參考上面公式)"
   ]
  },
  {
   "cell_type": "markdown",
   "metadata": {},
   "source": [
    "# [作業重點]\n",
    "- 注意程式的縮排\n",
    "- 是否能將數學公式, 轉換為 Python 的函式組合? (In[2], Out[2])"
   ]
  },
  {
   "cell_type": "code",
   "execution_count": 1,
   "metadata": {},
   "outputs": [],
   "source": [
    "# 載入基礎套件與代稱\n",
    "import numpy as np\n",
    "import matplotlib.pyplot as plt"
   ]
  },
  {
   "cell_type": "code",
   "execution_count": 10,
   "metadata": {},
   "outputs": [],
   "source": [
    "def mean_absolute_error(y, yp):\n",
    "    \"\"\"\n",
    "    計算 MAE\n",
    "    Args:\n",
    "        - y: 實際值\n",
    "        - yp: 預測值\n",
    "    Return:\n",
    "        - mae: MAE\n",
    "    \"\"\"\n",
    "    mae = MAE = sum(abs(y - yp)) / len(y)\n",
    "    return mae\n",
    "\n",
    "# 定義 mean_squared_error 這個函數, 計算並傳回 MSE\n",
    "def mean_squared_error(y, yp):\n",
    "    \"\"\"\n",
    "    請完成這個 Function 後往下執行\n",
    "    \"\"\"\n",
    "    mse = MSE = sum((y - yp)**2)\n",
    "    return mse"
   ]
  },
  {
   "cell_type": "code",
   "execution_count": 7,
   "metadata": {},
   "outputs": [
    {
     "data": {
      "image/png": "[encoded data removed]",
      "text/plain": [
       "<Figure size 432x288 with 1 Axes>"
      ]
     },
     "metadata": {
      "needs_background": "light"
     },
     "output_type": "display_data"
    }
   ],
   "source": [
    "# 與範例相同, 不另外解說\n",
    "w = 3\n",
    "b = 0.5\n",
    "x_lin = np.linspace(0, 100, 101)\n",
    "y = (x_lin + np.random.randn(101) * 5) * w + b\n",
    "\n",
    "plt.plot(x_lin, y, 'b.', label = 'data points')\n",
    "plt.title(\"Assume we have data points\")\n",
    "plt.legend(loc = 2)\n",
    "plt.show()"
   ]
  },
  {
   "cell_type": "code",
   "execution_count": 8,
   "metadata": {},
   "outputs": [
    {
     "data": {
      "image/png": "[encoded data removed]",
      "text/plain": [
       "<Figure size 432x288 with 1 Axes>"
      ]
     },
     "metadata": {
      "needs_background": "light"
     },
     "output_type": "display_data"
    }
   ],
   "source": [
    "# 與範例相同, 不另外解說\n",
    "y_hat = x_lin * w + b\n",
    "plt.plot(x_lin, y, 'b.', label = 'data')\n",
    "plt.plot(x_lin, y_hat, 'r-', label = 'prediction')\n",
    "plt.title(\"Assume we have data points (And the prediction)\")\n",
    "plt.legend(loc = 2)\n",
    "plt.show()"
   ]
  },
  {
   "cell_type": "code",
   "execution_count": 11,
   "metadata": {},
   "outputs": [
    {
     "name": "stdout",
     "output_type": "stream",
     "text": [
      "The Mean squared error is 24567.042\n",
      "The Mean absolute error is 13.039\n"
     ]
    }
   ],
   "source": [
    "# 執行 Function, 確認有沒有正常執行\n",
    "MSE = mean_squared_error(y, y_hat)\n",
    "MAE = mean_absolute_error(y, y_hat)\n",
    "print(\"The Mean squared error is %.3f\" % (MSE))\n",
    "print(\"The Mean absolute error is %.3f\" % (MAE))"
   ]
  },
  {
   "cell_type": "markdown",
   "metadata": {},
   "source": [
    "# [作業2]\n",
    "\n",
    "請上 Kaggle, 在 Competitions 或 Dataset 中找一組競賽或資料並寫下：\n",
    "\n",
    "\n",
    "1. 你選的這組資料為何重要\n",
    "\n",
    "I choose Google Play Store Apps from dataset.\n",
    "可以分析 Google Play store 上的 App 的類型、型態以及尋找未來趨勢。\n",
    "\n",
    "2. 資料從何而來 (tips: 譬如提供者是誰、以什麼方式蒐集)\n",
    "Data is scraped from the Google Play Store by Lavanya Gupta.\n",
    "\n",
    "3. 蒐集而來的資料型態為何\n",
    "csv\n",
    "\n",
    "4. 這組資料想解決的問題如何評估\n",
    "統計每個時期不同類型的app數量及評分，檢視他們的類型\n",
    "\n",
    "\n",
    "\n",
    "# [作業3]\n",
    "\n",
    "想像你經營一個自由載客車隊，你希望能透過數據分析以提升業績，請你思考並描述你如何規劃整體的分析/解決方案：\n",
    "\n",
    "1. 核心問題為何 (tips：如何定義 「提升業績 & 你的假設」)\n",
    "提升業績：收入上升 -> 出車比例提升或單價調整\n",
    "\n",
    "自由載客車隊擁有一群司機及車輛為固定成本，每組司機與車輛能達到的最大產值為固定，可估算出來。\n",
    "若希望提升業績，須從提升出車比例或調整單價或客群著手。\n",
    "\n",
    "出車比例：行銷、知名度、客戶來源、服務品質、客戶滿意度、是否與其他廠商或店家配合\n",
    "單價：單價是否合宜，價格太高致客戶量少；或出車比例已達上限，可調高單價\n",
    "客群：目前的目標客群為一般消費族群、登山客、觀光旅遊客\n",
    "\n",
    "2. 資料從何而來 (tips：哪些資料可能會對你想問的問題產生影響 & 資料如何蒐集)\n",
    "內部基本資料：司機基本資料與習慣、車輛型號與狀態相關資訊\n",
    "客戶資料：客戶基本資料與其習性、習慣\n",
    "營運資料：每筆出車紀錄(包含成功與未成功出車紀錄、日期、時間、地點、期間、類型、價格、滿意度調查)、是否為固定客源、固定客源類型\n",
    "行銷計畫：規劃過的計畫，包含計畫內容估計可達成的產值、鎖定客群\n",
    "公司形象：從不同面向來檢視，包含產品形象、媒介形象、組織形象、標識形象、人員形象、文化形象、 環境形象、社區形象\n",
    "追蹤網頁資料\n",
    "\n",
    "3. 蒐集而來的資料型態為何\n",
    "整理為表格，盡量分類呈現為數字、布林、時間區間\n",
    "如為形象類別等較抽象內容，則呈現為滿分10分的數字評分。\n",
    "\n",
    "4. 你要回答的問題，其如何評估 (tips：你的假設如何驗證)\n",
    "檢視現階段產值達到最大產值的多少百分比\n",
    "  若與最大產值已很接近 -> 考慮調整價格，是否要將客群往上調整\n",
    "  \n",
    "  若與最大產值仍有許多差距\n",
    "  -> 客群與單價是否統一 -> 新客源是否穩定成長 -> 是否考慮調整客群或價格\n",
    "  -> 檢視固定客源佔現階段產值百分比 -> 新客源是否一定比例轉為固定客源 -> 檢視客戶滿意度尋找服務問題\n",
    "  -> 檢視網站流量、瀏覽順序、是否在網站上觸發點擊 -> 網站架構是否合宜且吸引客戶 \n",
    "                                           -> 在價格頁面打退堂鼓比例\n"
   ]
  }
 ],
 "metadata": {
  "anaconda-cloud": {},
  "kernelspec": {
   "display_name": "Python 3",
   "language": "python",
   "name": "python3"
  },
  "language_info": {
   "codemirror_mode": {
    "name": "ipython",
    "version": 3
   },
   "file_extension": ".py",
   "mimetype": "text/x-python",
   "name": "python",
   "nbconvert_exporter": "python",
   "pygments_lexer": "ipython3",
   "version": "3.7.3"
  }
 },
 "nbformat": 4,
 "nbformat_minor": 1
}
